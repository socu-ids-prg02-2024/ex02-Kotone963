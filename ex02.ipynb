{
  "cells": [
    {
      "cell_type": "markdown",
      "metadata": {
        "id": "vUS1_-VEucr8"
      },
      "source": [
        "# 第2回 課題"
      ]
    },
    {
      "cell_type": "markdown",
      "metadata": {
        "id": "QUh4X5oGucr9"
      },
      "source": [
        "以下の設問に解答し、提出せよ。"
      ]
    },
    {
      "cell_type": "markdown",
      "metadata": {
        "id": "WoEftW41ucr9"
      },
      "source": [
        "## 注意事項"
      ]
    },
    {
      "cell_type": "markdown",
      "metadata": {
        "id": "Uq-_z1ekucr-"
      },
      "source": [
        "提出場所と提出ファイル名に注意すること。**違反した場合、自動採点が行われない。また自動採点の結果を本課題の点数とし、手動での採点は行わない。提出時に自動採点が行われていることを各自で確認すること。**\n",
        "- 提出場所: githubのrepository\n",
        "    - repositoryの名前: ex02-<アカウント名>\n",
        "- 提出ファイル名: ex02.ipynb\n",
        "\n",
        "**提出ファイルが単体でエラーなく実行できることを確認すること。** 提出ファイルの中に失敗するテストや文法的に間違ったプログラムが含まれている場合、**自動採点による採点が失敗して0点となる場合がある。**"
      ]
    },
    {
      "cell_type": "markdown",
      "metadata": {
        "id": "Z1NMG9mHucr-"
      },
      "source": [
        "## Q1. (40点)"
      ]
    },
    {
      "cell_type": "markdown",
      "metadata": {
        "id": "cGySpaw4ucr-"
      },
      "source": [
        "ある国のおてんばで勇敢なお姫様はある日，部屋の壁を壊してお城を抜け出し，ギャンブルが行われている賭博場に入っていった．ところが，ギャンブルなどやったことのないお姫様は，非常に負けが込んでしまった．この状況をおもしろくないと思ったお姫様は，一体どのような仕組みでギャンブルが行われているかを調べてみた．すると，このようなギャンブルではパリミュチュエル方式と呼ばれる方式で配当が決定されていることを突き止めた．\n",
        "\n",
        "パリミュチュエル方式とは，競走を対象としたギャンブルにおいて配当を決定するために使用する計算方法である．この方式では，全ての掛け金をプールし，一定の割合を控除した上で，当選者に掛け金に比例した金額を分配する．\n",
        "\n",
        "現在お姫様が熱中しているギャンブルは，参加者は競技前にどの競技者が優勝するかを予想する 1枚100ゴールドの投票券を購入し，競技の結果が予想と一致すれば当選金を受け取る権利を得るというものである．なお，ゴールドはこの国の通貨単位である．あなたの仕事は入力として与えられる競技の情報をもとに，投票券一枚あたりの配当を計算する関数`payout()`を書くことである．\n",
        "\n",
        "先述の方法で計算される配当額が整数にならない場合は，切り捨てによって整数にすること．"
      ]
    },
    {
      "cell_type": "markdown",
      "metadata": {
        "id": "pgagurV5ucr-"
      },
      "source": [
        "### `payout()`の入力(引数): ファイル名"
      ]
    },
    {
      "cell_type": "markdown",
      "metadata": {
        "id": "ODJiaysCucr-"
      },
      "source": [
        "入力は複数のデータセットを記したファイルの名前である．データセットの個数は100以下である．最後のデータセットの後に，入力の終わりを示す「0 0 0」からなる一行が与えられる．\n",
        "\n",
        "各データセットは次のような形式をしている．\n",
        "\n",
        "$\\begin{array}{ccc}\n",
        "N & M & P\\\\\n",
        "X_1& & \\\\\n",
        "\\vdots & & \\\\\n",
        "X_N& &\n",
        "\\end{array}$\n",
        "\n",
        "最初の行の$N$は投票の対象となる競技者の数，$M$は優勝した競技者の番号，$P$は控除率（百分率）を表す整数である．$X_i$は$i$番目の競技者に投票された投票券の枚数である． $1\\leq N\\leq 100$， $1\\leq M\\leq N$， $0\\leq P\\leq 100$， $0\\leq X_i\\leq 1000$ を仮定してよい．"
      ]
    },
    {
      "cell_type": "markdown",
      "metadata": {
        "id": "2k1TDjNwucr-"
      },
      "source": [
        "### `payout()`の出力(返値): リスト"
      ]
    },
    {
      "cell_type": "markdown",
      "metadata": {
        "id": "UoZVKC1-ucr_"
      },
      "source": [
        "各データセットに対し当選した投票券一枚あたりの配当金額を示す整数からなるリストを返せ．賭けに勝った人がいない場合は0を出力せよ．出力行には他の文字があってはならない．"
      ]
    },
    {
      "cell_type": "markdown",
      "metadata": {
        "id": "G9wP46I5ucr_"
      },
      "source": [
        "### 入力ファイル例"
      ]
    },
    {
      "cell_type": "markdown",
      "metadata": {
        "id": "qqx3H1WWucr_"
      },
      "source": [
        "```text\n",
        "3 2 50\n",
        "1\n",
        "2\n",
        "3\n",
        "4 4 75\n",
        "1\n",
        "2\n",
        "3\n",
        "0\n",
        "3 1 10\n",
        "8\n",
        "1\n",
        "1\n",
        "0 0 0\n",
        "```"
      ]
    },
    {
      "cell_type": "markdown",
      "metadata": {
        "id": "Suq4WOA_ucr_"
      },
      "source": [
        "### 入力ファイル例に対して期待される出力"
      ]
    },
    {
      "cell_type": "markdown",
      "metadata": {
        "id": "DxUYQo42ucr_"
      },
      "source": [
        "```python\n",
        "[150, 0, 112]\n",
        "```"
      ]
    },
    {
      "cell_type": "markdown",
      "metadata": {
        "id": "MiomHl4pucr_"
      },
      "source": [
        "### 解答欄"
      ]
    },
    {
      "cell_type": "code",
      "execution_count": 5,
      "metadata": {
        "id": "oNLFnFksucr_",
        "outputId": "cbe80f8d-c034-4f55-a264-c517c3591c6c",
        "colab": {
          "base_uri": "https://localhost:8080/"
        }
      },
      "outputs": [
        {
          "output_type": "stream",
          "name": "stdout",
          "text": [
            "[150, 0, 112]\n"
          ]
        }
      ],
      "source": [
        "def create_input_file(filename):\n",
        "    ''' テスト用の入力ファイルを作成する関数 '''\n",
        "    with open(filename, 'w') as f:\n",
        "        f.write(\"3 2 50\\n\")  # 3人、2番目が勝者、控除率50%\n",
        "        f.write(\"1\\n2\\n3\\n\")  # 投票数\n",
        "        f.write(\"4 4 75\\n\")  # 4人、4番目が勝者、控除率75%\n",
        "        f.write(\"1\\n2\\n3\\n\")  # 投票数\n",
        "        f.write(\"0\\n\")  # データセット終了\n",
        "        f.write(\"3 1 10\\n\")  # 3人、1番目が勝者、控除率10%\n",
        "        f.write(\"8\\n1\\n1\\n\")  # 投票数\n",
        "        f.write(\"0 0 0\\n\")  # 入力の終わりを示す行\n",
        "\n",
        "\n",
        "def payout(filename):\n",
        "    '''\n",
        "    Parameters:\n",
        "        filename (str): データセットを記したファイルの名前\n",
        "\n",
        "    Returns:\n",
        "        list: 各データセットについて当選した投票券一枚あたりの配当金額のリスト\n",
        "    '''\n",
        "    results = []\n",
        "\n",
        "    with open(filename, 'r') as file:\n",
        "        while True:\n",
        "            line = file.readline().strip()\n",
        "            if line == \"0 0 0\":\n",
        "                break\n",
        "\n",
        "            # 最初の行をパース\n",
        "            N, M, P = map(int, line.split())\n",
        "            votes = [int(file.readline().strip()) for _ in range(N)]\n",
        "\n",
        "            # 全投票額\n",
        "            total_votes = sum(votes) * 100  # 1枚100ゴールド\n",
        "            winner_votes = votes[M - 1]  # M番目の競技者に投票された枚数\n",
        "\n",
        "            # 控除額の計算\n",
        "            deduction = (total_votes * P) // 100\n",
        "            payout_amount = total_votes - deduction\n",
        "\n",
        "            # 配当金の計算\n",
        "            if winner_votes > 0:\n",
        "                payout_per_ticket = payout_amount // winner_votes\n",
        "            else:\n",
        "                payout_per_ticket = 0\n",
        "\n",
        "            results.append(payout_per_ticket)\n",
        "\n",
        "    return results\n",
        "\n",
        "# メイン部分\n",
        "if __name__ == \"__main__\":\n",
        "    input_filename = \"input.txt\"\n",
        "\n",
        "    # 入力ファイルを作成\n",
        "    create_input_file(input_filename)\n",
        "\n",
        "    # 配当金額を計算して出力\n",
        "    result = payout(input_filename)\n",
        "    print(result)  # 期待される出力: [150, 0, 112]\n"
      ]
    },
    {
      "cell_type": "markdown",
      "metadata": {
        "id": "44sNnsVducsA"
      },
      "source": [
        "## Q2. (40点)"
      ]
    },
    {
      "cell_type": "markdown",
      "metadata": {
        "id": "9ypFX-ZNucsA"
      },
      "source": [
        "山口東京理科大学のK先生は，プログラミング教育の新しい方法を考案した．この方法が有効かどうかを確認するために，対照実験を行うことにした． 2人の学生を被験者として，一方を従来の方法で教え，もう一方を新しい方法で教える． 2人の最終的な成績を比べれば，新しい方法が有効かどうか判定できるだろう．\n",
        "\n",
        "公平な比較を行うためには，成績のなるべく近い2人を選ぶことが肝要である． 手元には，実験に参加可能な学生各人の成績の一覧表がある． この中から成績の差が最も小さい2人を選ぶ関数`minimum_diff()`を書いてほしい．"
      ]
    },
    {
      "cell_type": "markdown",
      "metadata": {
        "id": "EqNFA20CucsA"
      },
      "source": [
        "### `minimum_diff()`の入力(引数): ファイル名"
      ]
    },
    {
      "cell_type": "markdown",
      "metadata": {
        "id": "L_C64AIVucsA"
      },
      "source": [
        "入力は複数のデータセットを記したファイルの名前である． 各データセットは次の形式で表される．\n",
        "\n",
        "$\\begin{array}{cccc}\n",
        "n & & & \\\\\n",
        "a_1 & a_2 & \\cdots & a_n\n",
        "\\end{array}$\n",
        "\n",
        "データセットは2行からなる．1行目には学生の人数$n$が与えられる．$n$は整数であり，$2\\leq n\\leq 1000$が成り立つ．2行目には$n$人の学生の成績が与えられる． $a_i$（$1\\leq i\\leq n$）が$i$番目の学生の成績である．この値は整数であり，0以上1,000,000以下である．\n",
        "\n",
        "入力の終わりは，1個のゼロだけからなる行で表される． 全データセットの$n$の合計は50,000を超えない．"
      ]
    },
    {
      "cell_type": "markdown",
      "metadata": {
        "id": "rltv4Sw3ucsA"
      },
      "source": [
        "### `minimum_diff()`の出力(返値): リスト"
      ]
    },
    {
      "cell_type": "markdown",
      "metadata": {
        "id": "mDiFAocZucsA"
      },
      "source": [
        "各データセットについて，成績の差が最小の2人の学生を選び， その差の絶対値を並べたリストを返せ。"
      ]
    },
    {
      "cell_type": "markdown",
      "metadata": {
        "id": "0I-sV0esucsA"
      },
      "source": [
        "### 入力ファイル例"
      ]
    },
    {
      "cell_type": "markdown",
      "metadata": {
        "id": "1UofuR4XucsA"
      },
      "source": [
        "```text\n",
        "5\n",
        "10 10 10 10 10\n",
        "5\n",
        "1 5 8 9 11\n",
        "7\n",
        "11 34 83 47 59 29 70\n",
        "0\n",
        "```"
      ]
    },
    {
      "cell_type": "markdown",
      "metadata": {
        "id": "EaaZVxzuucsA"
      },
      "source": [
        "### 入力ファイル例に対して期待される出力"
      ]
    },
    {
      "cell_type": "markdown",
      "metadata": {
        "id": "j0okAXLMucsA"
      },
      "source": [
        "```python\n",
        "[0, 1, 5]\n",
        "```"
      ]
    },
    {
      "cell_type": "markdown",
      "metadata": {
        "id": "uNWaZd2yucsA"
      },
      "source": [
        "### 解答欄"
      ]
    },
    {
      "cell_type": "code",
      "execution_count": 7,
      "metadata": {
        "id": "k6HUZCLuucsA",
        "outputId": "0e3ce057-ecda-4a6c-d7af-ecd962161aa6",
        "colab": {
          "base_uri": "https://localhost:8080/"
        }
      },
      "outputs": [
        {
          "output_type": "stream",
          "name": "stdout",
          "text": [
            "[0, 1, 5]\n"
          ]
        }
      ],
      "source": [
        "def create_input_file(filename):\n",
        "    \"\"\" テスト用の入力ファイルを作成する \"\"\"\n",
        "    with open(filename, 'w') as file:\n",
        "        file.write(\"5\\n10 10 10 10 10\\n\")\n",
        "        file.write(\"5\\n1 5 8 9 11\\n\")\n",
        "        file.write(\"7\\n11 34 83 47 59 29 70\\n\")\n",
        "        file.write(\"0\\n\")\n",
        "\n",
        "def minimum_diff(filename):\n",
        "    '''\n",
        "    Parameters:\n",
        "        filename (str): データセットを記したファイルの名前\n",
        "\n",
        "    Returns:\n",
        "        list: 各データセットについて選択した2人の学生の成績の差の絶対値からなるリスト\n",
        "    '''\n",
        "    results = []  # 結果を格納するリスト\n",
        "\n",
        "    with open(filename, 'r') as file:\n",
        "        while True:\n",
        "            # 学生の人数を読み取る\n",
        "            n = int(file.readline().strip())\n",
        "            if n == 0:  # 終了条件\n",
        "                break\n",
        "\n",
        "            # 学生の成績を読み取る\n",
        "            scores = list(map(int, file.readline().strip().split()))\n",
        "\n",
        "            # 成績をソート\n",
        "            scores.sort()\n",
        "\n",
        "            # 最小の成績差を計算\n",
        "            min_diff = float('inf')  # 初期値を無限大に設定\n",
        "            for i in range(1, n):\n",
        "                diff = scores[i] - scores[i - 1]  # 隣接する成績の差を計算\n",
        "                if diff < min_diff:\n",
        "                    min_diff = diff  # 最小の差を更新\n",
        "\n",
        "            results.append(min_diff)  # 結果をリストに追加\n",
        "\n",
        "    return results  # 最小の成績差のリストを返す\n",
        "\n",
        "# テスト用の入力ファイルを作成\n",
        "input_file = 'input.txt'\n",
        "create_input_file(input_file)\n",
        "\n",
        "# 関数を実行して出力を確認\n",
        "result = minimum_diff(input_file)\n",
        "print(result)  # 期待される出力は [0, 1, 5]\n"
      ]
    },
    {
      "cell_type": "markdown",
      "metadata": {
        "id": "53gByTvDucsA"
      },
      "source": [
        "## Q3. (20点)"
      ]
    },
    {
      "cell_type": "markdown",
      "metadata": {
        "id": "Tp4X5FcnucsA"
      },
      "source": [
        "K先生は， \"m\"，\"c\"，\"x\"，\"i\" の4個の文字と \"2\"，\"3\"，\"4\"，\"5\"，\"6\"，\"7\"，\"8\"，\"9\" の8個の数字を 使った整数値の新しい表記法を考案した． 数字の \"0\" と \"1\" は使用しない．\n",
        "\n",
        "文字 \"m\"，\"c\"，\"x\"，\"i\" は，それぞれ 1000，100，10，1 を表し， 数字 \"2\"，...,\"9\" は，それぞれ 2，...，9 を表す． なお，この表記法はローマ数字とは関係ない．\n",
        "\n",
        "たとえば，文字列\"5m2c3x4i\"， \"m2c4i\"，\"5m2c3x\"は， 整数 5234 (=`5*1000+2*100+3*10+4*1`)， 1204 (=`1000+2*100+4*1`)， 5230 (=`5*1000+2*100+3*10`) にそれぞれ対応する． この例の中の \"5m\"，\"2c\"，\"3x\"，\"4i\" は， それぞれ 5000 (=`5*1000`)，200 (=`2*100`)，30 (=`3*10`)，4 (=`4*1`) を表す．\n",
        "\n",
        "\"m\"，\"c\"，\"x\"，\"i\" の各文字の左には, \"2\"，\"3\"，...，\"9\" の中の一つの数字が前置されることがある． その場合には，その数字と文字は一組のものとみなされる． そのような一組は， その文字が表す値と前置された数字が表す値との積に等しい値を表す．\n",
        "\n",
        "文字列中に，\"m\"，\"c\"，\"x\"，\"i\" の各文字はたかだか1回現れる． 前置された数字がある場合には，その数字とともに現れる． 各文字の出現順序は，左から右に \"m\"，\"c\"，\"x\"，\"i\" である． 数字はある文字の前置数字としてだけ現れる． \"m\"，\"c\"，\"x\"，\"i\" の各文字は文字列中に現れないことがあるが，全体は空では無い． このようにしてできる文字列をMCXI文字列という.\n",
        "\n",
        "上記のように，MCXI文字列は， その中の文字の値，および， 前置される数字がある場合には数字と文字の組が表す値の和を取ることにより， 正の整数値を表す． MCXI文字列が表す正の整数値をMCXI値という． また，1〜9999の任意の整数値が与えられたとき， それをMCXI値として持つMCXI文字列は唯一存在する． たとえば，\"m2c4i\" のMCXI値は`1000+2*100+4*1`であるので， 1204 である． 1204 を MCXI値として持つMCXI文字列は \"m2c4i\" だけである． \"1m2c4i\"，\"mcc4i\", \"m2c0x4i\"，\"2cm4i\" などの文字列は，MCXI文字列としては許されない． その理由は，それぞれ，\"1\"の使用，\"c\"の2回の出現，\"0\"の使用， \"c\"と\"m\"の誤った順序，である．\n",
        "\n",
        "あなたの仕事は，K先生に代わって，2個のMCXI文字列を読み込み， そのMCXI値の和を計算して， 結果をMCXI文字列として出力する関数`mcxi_sum()`を書くことである．"
      ]
    },
    {
      "cell_type": "markdown",
      "metadata": {
        "id": "CIGnKiKsucsA"
      },
      "source": [
        "### `mcxi_sum()`の入力(引数): ファイル名"
      ]
    },
    {
      "cell_type": "markdown",
      "metadata": {
        "id": "snyKG4bkucsA"
      },
      "source": [
        "入力はファイル名であり、ファイルの内容は次のようになっている．先頭$n$は500以下の正の十進整数であり， それに続く行数を表す． 第$k+1$行は，$k$番目の計算指示を表す ($k=1，\\dots，n$)．\n",
        "\n",
        "$n\\\\\n",
        "計算指示_1\\\\\n",
        "計算指示_2\\\\\n",
        "\\vdots\\\\\n",
        "計算指示_n$\n",
        "\n",
        "各計算指示は1行からなり，その形式は，\n",
        "\n",
        "MCXI文字列$_1$ MCXI文字列$_2$\n",
        "\n",
        "である． 2個のMCXI文字列は1個の空白で区切られる.\n",
        "\n",
        "各計算指示に現れる2個のMCXI文字列のMCXI値の和は9999以下と仮定してよい．"
      ]
    },
    {
      "cell_type": "markdown",
      "metadata": {
        "id": "GbMlaM66ucsB"
      },
      "source": [
        "### `mcxi_sum()`の出力(返値): MCXI文字列のリスト"
      ]
    },
    {
      "cell_type": "markdown",
      "metadata": {
        "id": "Fqs91GZNucsB"
      },
      "source": [
        "各計算指示についてのMCXI文字列を収めたリストを返せ． ただし，そのMCXI値は， 計算指示中の2個のMCXI文字列のMCXI値の和である． 出力は空白などの余分な文字を含まないこと．"
      ]
    },
    {
      "cell_type": "markdown",
      "metadata": {
        "id": "Gx1G0WDnucsB"
      },
      "source": [
        "### 入力ファイル例"
      ]
    },
    {
      "cell_type": "markdown",
      "metadata": {
        "id": "BLg2k2cgucsB"
      },
      "source": [
        "```text\n",
        "10\n",
        "xi x9i\n",
        "i 9i\n",
        "c2x2i 4c8x8i\n",
        "m2ci 4m7c9x8i\n",
        "9c9x9i i\n",
        "i 9m9c9x8i\n",
        "m i\n",
        "i m\n",
        "m9i i\n",
        "9m8c7xi c2x8i\n",
        "```"
      ]
    },
    {
      "cell_type": "markdown",
      "metadata": {
        "id": "GCk7rjr7ucsB"
      },
      "source": [
        "### 入力ファイル例に対して期待される出力"
      ]
    },
    {
      "cell_type": "markdown",
      "metadata": {
        "id": "Bf4h5SVzucsB"
      },
      "source": [
        "```python\n",
        "[\"3x\", \"x\", \"6cx\", \"5m9c9x9i\", \"m\", \"9m9c9x9i\", \"mi\", \"mi\", \"mx\", \"9m9c9x9i\"]\n",
        "```"
      ]
    },
    {
      "cell_type": "markdown",
      "metadata": {
        "id": "jD-wkc5qucsB"
      },
      "source": [
        "### 解答欄"
      ]
    },
    {
      "cell_type": "code",
      "execution_count": 12,
      "metadata": {
        "id": "cX3arm3iucsB",
        "outputId": "69e4f791-3ef8-41cf-8999-e93faa8c206d",
        "colab": {
          "base_uri": "https://localhost:8080/"
        }
      },
      "outputs": [
        {
          "output_type": "stream",
          "name": "stdout",
          "text": [
            "['3x', 'x', '6cx', '5m9c9x9i', 'm', '9m9c9x9i', 'mi', 'mi', 'mx', '9m9c9x9i']\n"
          ]
        }
      ],
      "source": [
        "def create_input_file(filename):\n",
        "    \"\"\" テスト用の入力ファイルを作成する \"\"\"\n",
        "    with open(filename, 'w') as file:\n",
        "        file.write(\"10\\n\")\n",
        "        file.write(\"xi x9i\\n\")\n",
        "        file.write(\"i 9i\\n\")\n",
        "        file.write(\"c2x2i 4c8x8i\\n\")\n",
        "        file.write(\"m2ci 4m7c9x8i\\n\")\n",
        "        file.write(\"9c9x9i i\\n\")\n",
        "        file.write(\"i 9m9c9x8i\\n\")\n",
        "        file.write(\"m i\\n\")\n",
        "        file.write(\"i m\\n\")\n",
        "        file.write(\"m9i i\\n\")\n",
        "        file.write(\"9m8c7xi c2x8i\\n\")\n",
        "\n",
        "def mcxi_to_integer(mcxi_str):\n",
        "    \"\"\" MCXI文字列を整数に変換する \"\"\"\n",
        "    total = 0\n",
        "    multipliers = {'m': 1000, 'c': 100, 'x': 10, 'i': 1}\n",
        "    i = 0\n",
        "\n",
        "    while i < len(mcxi_str):\n",
        "        if mcxi_str[i] in multipliers:\n",
        "            if i > 0 and mcxi_str[i - 1].isdigit():\n",
        "                total += int(mcxi_str[i - 1]) * multipliers[mcxi_str[i]]\n",
        "            else:\n",
        "                total += multipliers[mcxi_str[i]]\n",
        "        i += 1\n",
        "\n",
        "    return total\n",
        "\n",
        "def integer_to_mcxi(value):\n",
        "    \"\"\" 整数をMCXI文字列に変換する \"\"\"\n",
        "    result = []\n",
        "    if value >= 1000:\n",
        "        m_count = value // 1000\n",
        "        result.append(f\"{m_count}m\")\n",
        "        value %= 1000\n",
        "    if value >= 100:\n",
        "        c_count = value // 100\n",
        "        result.append(f\"{c_count}c\")\n",
        "        value %= 100\n",
        "    if value >= 10:\n",
        "        x_count = value // 10\n",
        "        result.append(f\"{x_count}x\")\n",
        "        value %= 10\n",
        "    if value > 0:\n",
        "        result.append(f\"{value}i\")\n",
        "\n",
        "    # '1'が含まれる場合は省略\n",
        "    mcxi_result = ''.join(result)\n",
        "\n",
        "    # 1が残っている場合、前の数字が1なら省略\n",
        "    mcxi_result = mcxi_result.replace(\"1m\", \"m\").replace(\"1c\", \"c\").replace(\"1x\", \"x\").replace(\"1i\", \"i\")\n",
        "\n",
        "    return mcxi_result\n",
        "\n",
        "def mcxi_sum(filename):\n",
        "    '''\n",
        "    Parameters:\n",
        "        filename (str): 計算指示を記したファイル名\n",
        "\n",
        "    Returns:\n",
        "        list: 各計算指示について計算した結果のmcxi文字列を収めたリスト\n",
        "    '''\n",
        "    results = []  # 結果を格納するリスト\n",
        "\n",
        "    with open(filename, 'r') as file:\n",
        "        n = int(file.readline().strip())  # 行数を読み取る\n",
        "        for _ in range(n):\n",
        "            line = file.readline().strip()\n",
        "            mcxi_str1, mcxi_str2 = line.split()\n",
        "            value1 = mcxi_to_integer(mcxi_str1)  # MCXI文字列を整数に変換\n",
        "            value2 = mcxi_to_integer(mcxi_str2)  # MCXI文字列を整数に変換\n",
        "            total_value = value1 + value2  # 合計値を計算\n",
        "            mcxi_result = integer_to_mcxi(total_value)  # 合計値をMCXI文字列に変換\n",
        "            results.append(mcxi_result)  # 結果をリストに追加\n",
        "\n",
        "    return results  # 結果のリストを返す\n",
        "\n",
        "# テスト用の入力ファイルを作成\n",
        "input_file = 'input.txt'\n",
        "create_input_file(input_file)\n",
        "\n",
        "# 関数を実行して出力を確認\n",
        "result = mcxi_sum(input_file)\n",
        "print(result)  # 期待される出力は [\"3x\", \"x\", \"6cx\", \"5m9c9x9i\", \"m\", \"9m9c9x9i\", \"mi\", \"mi\", \"mx\", \"9m9c9x9i\"]\n"
      ]
    },
    {
      "cell_type": "code",
      "source": [],
      "metadata": {
        "id": "RyhMN2Gnx1vK"
      },
      "execution_count": null,
      "outputs": []
    }
  ],
  "metadata": {
    "language_info": {
      "name": "python"
    },
    "colab": {
      "provenance": []
    },
    "kernelspec": {
      "name": "python3",
      "display_name": "Python 3"
    }
  },
  "nbformat": 4,
  "nbformat_minor": 0
}